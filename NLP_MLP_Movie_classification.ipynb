{
  "nbformat": 4,
  "nbformat_minor": 0,
  "metadata": {
    "colab": {
      "name": "NLP_MLP_Movie classification.ipynb",
      "provenance": [],
      "collapsed_sections": [],
      "toc_visible": true,
      "authorship_tag": "ABX9TyON/NHzCR920wmrnEyojKSs",
      "include_colab_link": true
    },
    "kernelspec": {
      "name": "python3",
      "display_name": "Python 3"
    }
  },
  "cells": [
    {
      "cell_type": "markdown",
      "metadata": {
        "id": "view-in-github",
        "colab_type": "text"
      },
      "source": [
        "<a href=\"https://colab.research.google.com/github/BDouchet/BMDATA/blob/main/NLP_MLP_Movie_classification.ipynb\" target=\"_parent\"><img src=\"https://colab.research.google.com/assets/colab-badge.svg\" alt=\"Open In Colab\"/></a>"
      ]
    },
    {
      "cell_type": "markdown",
      "metadata": {
        "id": "kf4DeKRyXnvL"
      },
      "source": [
        "# Load Data\n",
        "\n",
        "The dataset is composed of 2000 movie reviews classified in two categories : posititive and negative review equally reparted. The aim si to create a basic Fully connected Neural Network to predict the sentiment of the review."
      ]
    },
    {
      "cell_type": "code",
      "metadata": {
        "colab": {
          "base_uri": "https://localhost:8080/"
        },
        "id": "AHFcnQfq_2nZ",
        "outputId": "c20277f9-d82a-4ad8-f3a5-bc63b79c3d03"
      },
      "source": [
        "import os\n",
        "from pydrive.auth import GoogleAuth\n",
        "from pydrive.drive import GoogleDrive\n",
        "from google.colab import auth\n",
        "from oauth2client.client import GoogleCredentials\n",
        "import numpy as np\n",
        "import matplotlib.pyplot as plt\n",
        "from zipfile import ZipFile\n",
        "import tensorflow as tf\n",
        "from tensorflow.keras import models,optimizers,layers\n",
        "\n",
        "auth.authenticate_user()\n",
        "gauth = GoogleAuth()\n",
        "gauth.credentials = GoogleCredentials.get_application_default()\n",
        "drive = GoogleDrive(gauth)\n",
        "\n",
        "id='1hUviU_B5cug4mVCLAHe0cWkU55R8vtUu'\n",
        "\n",
        "downloaded = drive.CreateFile({'id':id})\n",
        "downloaded.GetContentFile('reviews.zip')\n",
        "\n",
        "with ZipFile('reviews.zip', 'r') as zip:\n",
        "   zip.extractall()\n",
        "   print('Done')"
      ],
      "execution_count": null,
      "outputs": [
        {
          "output_type": "stream",
          "text": [
            "Done\n"
          ],
          "name": "stdout"
        }
      ]
    },
    {
      "cell_type": "markdown",
      "metadata": {
        "id": "BzSC6yjjYRET"
      },
      "source": [
        "An example of a negative review"
      ]
    },
    {
      "cell_type": "code",
      "metadata": {
        "colab": {
          "base_uri": "https://localhost:8080/"
        },
        "id": "Fw_-YZfeJoMt",
        "outputId": "6b1e9405-3a5c-4e81-dbfc-c2d1ca080ca5"
      },
      "source": [
        "def load_a_review(path,Print=False):\n",
        "    f = open(path, \"r\").read()\n",
        "    if Print:\n",
        "        print(f)\n",
        "    return f\n",
        "\n",
        "file=load_a_review('/content/txt_sentoken/neg/cv000_29416.txt',True)"
      ],
      "execution_count": null,
      "outputs": [
        {
          "output_type": "stream",
          "text": [
            "plot : two teen couples go to a church party , drink and then drive . \n",
            "they get into an accident . \n",
            "one of the guys dies , but his girlfriend continues to see him in her life , and has nightmares . \n",
            "what's the deal ? \n",
            "watch the movie and \" sorta \" find out . . . \n",
            "critique : a mind-fuck movie for the teen generation that touches on a very cool idea , but presents it in a very bad package . \n",
            "which is what makes this review an even harder one to write , since i generally applaud films which attempt to break the mold , mess with your head and such ( lost highway & memento ) , but there are good and bad ways of making all types of films , and these folks just didn't snag this one correctly . \n",
            "they seem to have taken this pretty neat concept , but executed it terribly . \n",
            "so what are the problems with the movie ? \n",
            "well , its main problem is that it's simply too jumbled . \n",
            "it starts off \" normal \" but then downshifts into this \" fantasy \" world in which you , as an audience member , have no idea what's going on . \n",
            "there are dreams , there are characters coming back from the dead , there are others who look like the dead , there are strange apparitions , there are disappearances , there are a looooot of chase scenes , there are tons of weird things that happen , and most of it is simply not explained . \n",
            "now i personally don't mind trying to unravel a film every now and then , but when all it does is give me the same clue over and over again , i get kind of fed up after a while , which is this film's biggest problem . \n",
            "it's obviously got this big secret to hide , but it seems to want to hide it completely until its final five minutes . \n",
            "and do they make things entertaining , thrilling or even engaging , in the meantime ? \n",
            "not really . \n",
            "the sad part is that the arrow and i both dig on flicks like this , so we actually figured most of it out by the half-way point , so all of the strangeness after that did start to make a little bit of sense , but it still didn't the make the film all that more entertaining . \n",
            "i guess the bottom line with movies like this is that you should always make sure that the audience is \" into it \" even before they are given the secret password to enter your world of understanding . \n",
            "i mean , showing melissa sagemiller running away from visions for about 20 minutes throughout the movie is just plain lazy ! ! \n",
            "okay , we get it . . . there \n",
            "are people chasing her and we don't know who they are . \n",
            "do we really need to see it over and over again ? \n",
            "how about giving us different scenes offering further insight into all of the strangeness going down in the movie ? \n",
            "apparently , the studio took this film away from its director and chopped it up themselves , and it shows . \n",
            "there might've been a pretty decent teen mind-fuck movie in here somewhere , but i guess \" the suits \" decided that turning it into a music video with little edge , would make more sense . \n",
            "the actors are pretty good for the most part , although wes bentley just seemed to be playing the exact same character that he did in american beauty , only in a new neighborhood . \n",
            "but my biggest kudos go out to sagemiller , who holds her own throughout the entire film , and actually has you feeling her character's unraveling . \n",
            "overall , the film doesn't stick because it doesn't entertain , it's confusing , it rarely excites and it feels pretty redundant for most of its runtime , despite a pretty cool ending and explanation to all of the craziness that came before it . \n",
            "oh , and by the way , this is not a horror or teen slasher flick . . . it's \n",
            "just packaged to look that way because someone is apparently assuming that the genre is still hot with the kids . \n",
            "it also wrapped production two years ago and has been sitting on the shelves ever since . \n",
            "whatever . . . skip \n",
            "it ! \n",
            "where's joblo coming from ? \n",
            "a nightmare of elm street 3 ( 7/10 ) - blair witch 2 ( 7/10 ) - the crow ( 9/10 ) - the crow : salvation ( 4/10 ) - lost highway ( 10/10 ) - memento ( 10/10 ) - the others ( 9/10 ) - stir of echoes ( 8/10 ) \n",
            "\n"
          ],
          "name": "stdout"
        }
      ]
    },
    {
      "cell_type": "markdown",
      "metadata": {
        "id": "3ZYe7PSAg9eC"
      },
      "source": [
        "I read all the reviews in the data folder"
      ]
    },
    {
      "cell_type": "code",
      "metadata": {
        "colab": {
          "base_uri": "https://localhost:8080/"
        },
        "id": "83_oJiFEKCcS",
        "outputId": "c26bf254-a040-4735-b05f-9ac714a36b0b"
      },
      "source": [
        "import os\n",
        "def process_doc(directory):\n",
        "    doc=[]\n",
        "    for file in os.listdir(directory):\n",
        "        doc.append(load_a_review(directory+file))\n",
        "    return doc\n",
        "\n",
        "neg=np.array(process_doc('/content/txt_sentoken/neg/'))\n",
        "pos=np.array(process_doc('/content/txt_sentoken/pos/'))\n",
        "\n",
        "print(np.array(neg).shape,np.array(pos).shape)"
      ],
      "execution_count": null,
      "outputs": [
        {
          "output_type": "stream",
          "text": [
            "(1000,) (1000,)\n"
          ],
          "name": "stdout"
        }
      ]
    },
    {
      "cell_type": "markdown",
      "metadata": {
        "id": "k5OCwOS1hDCU"
      },
      "source": [
        "I separate the dataset into two datasets : Train and Test made of 1800 and 200 reviews respectively. The number of positive and negative reviews in the datasets is equal. I shuffle the datasets."
      ]
    },
    {
      "cell_type": "code",
      "metadata": {
        "colab": {
          "base_uri": "https://localhost:8080/"
        },
        "id": "Nxuqo25jqDHo",
        "outputId": "3e1fa7e6-121d-4428-deab-f52b2de2a6c7"
      },
      "source": [
        "from sklearn.utils import shuffle\n",
        "\n",
        "x_train=np.concatenate([neg[:900],pos[:900]])\n",
        "x_test=np.concatenate([neg[900:],pos[900:]])\n",
        "y_train=np.array([0 for _ in range(900)]+[1 for _ in range(900)])\n",
        "y_test=np.array([0 for _ in range(100)]+[1 for _ in range(100)])\n",
        "\n",
        "x_train,y_train=shuffle(x_train,y_train)\n",
        "x_test,y_test=shuffle(x_test,y_test)\n",
        "\n",
        "print(x_train.shape,y_train.shape,x_test.shape,y_test.shape)"
      ],
      "execution_count": null,
      "outputs": [
        {
          "output_type": "stream",
          "text": [
            "(1800,) (1800,) (200,) (200,)\n"
          ],
          "name": "stdout"
        }
      ]
    },
    {
      "cell_type": "markdown",
      "metadata": {
        "id": "9nydZUZRhePi"
      },
      "source": [
        "# Text Processing\n",
        "\n",
        "In this part, I filter the relevant words of the reviews :\n",
        "\n",
        "*   Take off non relevant words (stopwords) like : to, from, and, if...\n",
        "*   Keep words with a length >=2\n",
        "*   Take off words seen only once in the reviews\n",
        "\n",
        "This filtered words create our dictionnary. The dictionnary is only calculated with the train reviews because test reviews have to be \"new\" for the network.\n",
        "\n"
      ]
    },
    {
      "cell_type": "code",
      "metadata": {
        "colab": {
          "base_uri": "https://localhost:8080/"
        },
        "id": "pgkFc-c_Pse6",
        "outputId": "00baba50-6cad-4cc5-b418-979f369f815d"
      },
      "source": [
        "import nltk\n",
        "nltk.download('stopwords')\n",
        "from nltk.corpus import stopwords\n",
        "stop_words=set(stopwords.words('english'))\n",
        "print(stop_words)"
      ],
      "execution_count": null,
      "outputs": [
        {
          "output_type": "stream",
          "text": [
            "[nltk_data] Downloading package stopwords to /root/nltk_data...\n",
            "[nltk_data]   Package stopwords is already up-to-date!\n",
            "{'yourself', 'to', 'shan', \"doesn't\", \"shouldn't\", 'from', 'hasn', 'himself', 'haven', 'hadn', 'weren', 'and', 'if', 'about', \"mightn't\", \"mustn't\", 'further', 'too', 'this', 'where', 'over', 'below', 'same', 'are', 'been', 'will', 'any', 'his', 'but', 'of', 'than', 'before', 'by', 'll', \"you'd\", 'with', 'your', 've', 'between', 'mightn', 'yours', 'so', 'you', 'some', 'was', \"you're\", \"you'll\", 'very', 'them', 'nor', \"aren't\", 'out', 'me', 'which', 'whom', 'when', 'not', 'ours', 'have', 'few', 'wasn', 'a', \"that'll\", 'being', 'most', 'at', 'that', 'up', 'who', 'only', 'why', 'herself', 'until', 'does', 'as', 'hers', 'just', 'no', 'other', 'more', 'yourselves', \"weren't\", 'each', 'its', 'didn', 'these', \"hasn't\", 't', 'during', \"won't\", 'off', 'needn', 'both', 'how', 'because', 'he', 'be', 'did', 'now', 'in', 'm', \"she's\", 'ma', 'against', 'him', \"you've\", 'mustn', 'an', 'isn', 'should', 'doesn', 'my', \"should've\", \"couldn't\", 'once', 'can', 'y', 'i', 'we', 'she', 'down', 'has', 'aren', 'o', 'were', \"don't\", \"didn't\", 'while', 'through', 'above', 'or', \"needn't\", 'own', 'wouldn', \"shan't\", 'they', \"it's\", 'the', 'after', 'what', 'having', 'then', 'had', 're', 'our', \"wasn't\", 'her', 'ourselves', 'doing', \"wouldn't\", 'into', 'again', \"hadn't\", 'don', 'ain', 'd', 'on', 'here', 'those', 'myself', 'under', 'all', 's', 'do', 'their', 'themselves', 'couldn', 'for', 'it', \"haven't\", 'shouldn', 'itself', 'there', 'such', 'am', 'theirs', \"isn't\", 'is', 'won'}\n"
          ],
          "name": "stdout"
        }
      ]
    },
    {
      "cell_type": "code",
      "metadata": {
        "colab": {
          "base_uri": "https://localhost:8080/"
        },
        "id": "vJr2uNpZNjDT",
        "outputId": "0e3e5b37-7a78-47d0-aca5-12c8aee03298"
      },
      "source": [
        "import string\n",
        "import re\n",
        "\n",
        "re_punc=re.compile('[%s]' % re.escape(string.punctuation))\n",
        "\n",
        "def clean_review(review):\n",
        "    tokens=review.split()\n",
        "    tokens=[re_punc.sub('',w) for w in tokens]\n",
        "    tokens=[word for word in tokens if word.isalpha()]\n",
        "    tokens=[word for word in tokens if word not in stop_words]\n",
        "    tokens=[word for word in tokens if len(word)>1]\n",
        "    return tokens\n",
        "\n",
        "print(clean_review('Hello World ! I am a droïd.'))"
      ],
      "execution_count": null,
      "outputs": [
        {
          "output_type": "stream",
          "text": [
            "['Hello', 'World', 'droïd']\n"
          ],
          "name": "stdout"
        }
      ]
    },
    {
      "cell_type": "markdown",
      "metadata": {
        "id": "iibuw0gPi6IM"
      },
      "source": [
        "I create a vocab to count the number of filtered words in all the reviews."
      ]
    },
    {
      "cell_type": "code",
      "metadata": {
        "colab": {
          "base_uri": "https://localhost:8080/"
        },
        "id": "tUG5TuYDQ0Bk",
        "outputId": "8a474af2-c11d-4b82-b793-247ab4ba62ac"
      },
      "source": [
        "def add_words_to_vocab(review,vocab):\n",
        "    tokens=clean_review(review)\n",
        "    vocab.update(tokens)\n",
        "\n",
        "from collections import Counter\n",
        "vocab_test=Counter()\n",
        "add_words_to_vocab('hello world ! I am a droïd and I come from droïd world !',vocab_test)\n",
        "vocab_test.items()"
      ],
      "execution_count": null,
      "outputs": [
        {
          "output_type": "execute_result",
          "data": {
            "text/plain": [
              "dict_items([('hello', 1), ('world', 2), ('droïd', 2), ('come', 1)])"
            ]
          },
          "metadata": {
            "tags": []
          },
          "execution_count": 90
        }
      ]
    },
    {
      "cell_type": "markdown",
      "metadata": {
        "id": "eGus3T1Vpxsk"
      },
      "source": [
        "Creation of the vocab, without surprises the most frequent words are : film, movie, one, like..."
      ]
    },
    {
      "cell_type": "code",
      "metadata": {
        "colab": {
          "base_uri": "https://localhost:8080/"
        },
        "id": "jvXN7EipSrht",
        "outputId": "0691e7b7-f21f-444c-ec9e-002d8c7e6d54"
      },
      "source": [
        "import itertools\n",
        "vocab=Counter()\n",
        "for review in x_train:\n",
        "    add_words_to_vocab(review,vocab)\n",
        "print(len(vocab.items()))\n",
        "print(vocab.most_common(10))"
      ],
      "execution_count": null,
      "outputs": [
        {
          "output_type": "stream",
          "text": [
            "44442\n",
            "[('film', 8062), ('one', 5001), ('movie', 4961), ('like', 3178), ('even', 2299), ('good', 2068), ('time', 2068), ('story', 1959), ('films', 1909), ('would', 1868)]\n"
          ],
          "name": "stdout"
        }
      ]
    },
    {
      "cell_type": "markdown",
      "metadata": {
        "id": "roTJQ6IKreCm"
      },
      "source": [
        "Save of the dictionnary, I don't save unique words because they are not exploitable. The dictionnary is composed of 25841 words.\n"
      ]
    },
    {
      "cell_type": "code",
      "metadata": {
        "colab": {
          "base_uri": "https://localhost:8080/"
        },
        "id": "tvex3shjXJw8",
        "outputId": "3e83d09e-1697-46b3-eade-f6cd69d7005b"
      },
      "source": [
        "dictionnary=[token for token in vocab if vocab[token]>=2]\n",
        "data='\\n'.join(dictionnary)\n",
        "print(len(dictionnary))\n",
        "print(dictionnary[:10])\n",
        "f=open('/content/dictionnary.txt','w')\n",
        "f.write(data)\n",
        "f.close()"
      ],
      "execution_count": null,
      "outputs": [
        {
          "output_type": "stream",
          "text": [
            "25841\n",
            "['plot', 'group', 'asbestos', 'get', 'job', 'removing', 'gunk', 'old', 'insane', 'asylum']\n"
          ],
          "name": "stdout"
        }
      ]
    },
    {
      "cell_type": "markdown",
      "metadata": {
        "id": "C_Qss6TmsMwX"
      },
      "source": [
        "`extract_words` allows to convert a raw review into a sequence of words present in the previous calculated dictionnary."
      ]
    },
    {
      "cell_type": "code",
      "metadata": {
        "colab": {
          "base_uri": "https://localhost:8080/",
          "height": 137
        },
        "id": "3oi-T4CBfJMu",
        "outputId": "9247f869-a2b7-4abe-b5b7-f290da6a9c63"
      },
      "source": [
        "def extract_words(review,dictionnary):\n",
        "    tokens=clean_review(review)\n",
        "    line=[token for token in tokens if token in dictionnary]\n",
        "    return ' '.join(line)\n",
        "extract_words(neg[0],dictionnary)"
      ],
      "execution_count": null,
      "outputs": [
        {
          "output_type": "execute_result",
          "data": {
            "application/vnd.google.colaboratory.intrinsic+json": {
              "type": "string"
            },
            "text/plain": [
              "'stuck promise emblazoned original movies poster sequel scary movie nowhere near funny predecessor wayans brothers shawn marlon writing keenen ivory behind camera dont try defeats genre chosen spoof first movie outrageous lowbrow savage satire teen slasher flicks scream know last summer succeeded takenoprisoners attitude toward type film vogue familiar popular scary movie filmmakers take haunted story format look grosses recent lame offerings respective remakes haunting house haunted hill draw audiences enter cultural psyche various teen slasher series scary movie start promising wonderful spoof exorcist featuring james wood max von sydow role veronica cartwright lampooning ellen burstyn course split pea soup punch line amount offers hope rest movie tasteless excessive sequence nothing main action features cast members original signing spend weekend creepy haunted mansion part university class project jokes scatological offensive original lack takenoprisoners bite raised scary movie heights burlesque scary movie merely lurches one lame sendup another offering weak spoofs shoe ad everyone acrobatics basketball films lies beneath hannibal features adequately box office john woos mission impossible charlies angels wayans team writers least seven credited threw ideas hoped theyd coalesce dont pace original left breathless sequel moves speed carrying two tons concrete steep mountain road almost hear reels scary movie tries hard live original falls short dissatisfying spectacle weak sister good movie really scary aspect sequel disappointing really'"
            ]
          },
          "metadata": {
            "tags": []
          },
          "execution_count": 93
        }
      ]
    },
    {
      "cell_type": "markdown",
      "metadata": {
        "id": "yTKWzZQDsc__"
      },
      "source": [
        "I create a tokenizer in order to convert the sequence of words into an  array exploitable by a neural network. The array has a length equal to dictionnary_size-1 (only the most common num_words-1 words are kept). and associate a word from the dictionnary to an index. The value for each index is the frequency of the word in the review."
      ]
    },
    {
      "cell_type": "code",
      "metadata": {
        "id": "Y5-o8uv0k-DL",
        "colab": {
          "base_uri": "https://localhost:8080/"
        },
        "outputId": "ef436f4c-cfcc-4418-e340-a8985e866aae"
      },
      "source": [
        "from tensorflow.keras.preprocessing.text import Tokenizer\n",
        "\n",
        "def create_tokenizer(docs):\n",
        "    tokenizer=Tokenizer()\n",
        "    tokenizer.fit_on_texts(docs)\n",
        "    return tokenizer\n",
        "\n",
        "train,test=[],[]\n",
        "for review in x_train:\n",
        "    train.append(extract_words(review,dictionnary))\n",
        "for review in x_test:\n",
        "    test.append(extract_words(review,dictionnary))\n",
        "\n",
        "tok=create_tokenizer(train)\n",
        "X_train=tok.texts_to_matrix(train,mode='freq')\n",
        "X_test=tok.texts_to_matrix(test,mode='freq')\n",
        "print(X_train.shape,X_test.shape)"
      ],
      "execution_count": null,
      "outputs": [
        {
          "output_type": "stream",
          "text": [
            "(1800, 25842) (200, 25842)\n"
          ],
          "name": "stdout"
        }
      ]
    },
    {
      "cell_type": "code",
      "metadata": {
        "colab": {
          "base_uri": "https://localhost:8080/"
        },
        "id": "kzvpkOe7ts2g",
        "outputId": "23deab85-da50-4556-8d62-adbdcf936f25"
      },
      "source": [
        "print(X_train[0])"
      ],
      "execution_count": null,
      "outputs": [
        {
          "output_type": "stream",
          "text": [
            "[0.         0.03333333 0.01212121 ... 0.         0.         0.        ]\n"
          ],
          "name": "stdout"
        }
      ]
    },
    {
      "cell_type": "markdown",
      "metadata": {
        "id": "YpFpXCFQuJ4j"
      },
      "source": [
        "# Creation and Training of the NN \n",
        "\n",
        "I create a basic NN to predict the sentiment. The output is a value between 0 and 1, close to 0 means negative and close to 1 means positive."
      ]
    },
    {
      "cell_type": "code",
      "metadata": {
        "colab": {
          "base_uri": "https://localhost:8080/"
        },
        "id": "DAZS8T_cnl61",
        "outputId": "ddff1bac-1b37-49ae-9145-58ef2e4dd0f5"
      },
      "source": [
        "model=models.Sequential()\n",
        "model.add(layers.Dense(64,input_shape=(X_train.shape[-1],),activation='relu'))\n",
        "model.add(layers.Dense(1,activation='sigmoid'))\n",
        "\n",
        "print(model.summary())"
      ],
      "execution_count": null,
      "outputs": [
        {
          "output_type": "stream",
          "text": [
            "Model: \"sequential_25\"\n",
            "_________________________________________________________________\n",
            "Layer (type)                 Output Shape              Param #   \n",
            "=================================================================\n",
            "dense_30 (Dense)             (None, 64)                1653952   \n",
            "_________________________________________________________________\n",
            "dense_31 (Dense)             (None, 1)                 65        \n",
            "=================================================================\n",
            "Total params: 1,654,017\n",
            "Trainable params: 1,654,017\n",
            "Non-trainable params: 0\n",
            "_________________________________________________________________\n",
            "None\n"
          ],
          "name": "stdout"
        }
      ]
    },
    {
      "cell_type": "code",
      "metadata": {
        "colab": {
          "base_uri": "https://localhost:8080/"
        },
        "id": "ZBwA-cm42302",
        "outputId": "3bde2fca-8461-429d-9f5a-87e95d165844"
      },
      "source": [
        "model.compile(loss='binary_crossentropy',optimizer='adam',metrics=['acc'])\n",
        "history=model.fit(X_train,y_train,epochs=25,verbose=2,validation_data=(X_test,y_test))"
      ],
      "execution_count": null,
      "outputs": [
        {
          "output_type": "stream",
          "text": [
            "Epoch 1/25\n",
            "57/57 - 1s - loss: 0.6915 - acc: 0.5094 - val_loss: 0.6890 - val_acc: 0.5250\n",
            "Epoch 2/25\n",
            "57/57 - 1s - loss: 0.6805 - acc: 0.6333 - val_loss: 0.6801 - val_acc: 0.5250\n",
            "Epoch 3/25\n",
            "57/57 - 1s - loss: 0.6594 - acc: 0.7056 - val_loss: 0.6634 - val_acc: 0.6800\n",
            "Epoch 4/25\n",
            "57/57 - 1s - loss: 0.6269 - acc: 0.8111 - val_loss: 0.6418 - val_acc: 0.7600\n",
            "Epoch 5/25\n",
            "57/57 - 1s - loss: 0.5853 - acc: 0.9089 - val_loss: 0.6161 - val_acc: 0.8050\n",
            "Epoch 6/25\n",
            "57/57 - 1s - loss: 0.5386 - acc: 0.9394 - val_loss: 0.5884 - val_acc: 0.8100\n",
            "Epoch 7/25\n",
            "57/57 - 1s - loss: 0.4900 - acc: 0.9428 - val_loss: 0.5603 - val_acc: 0.8350\n",
            "Epoch 8/25\n",
            "57/57 - 1s - loss: 0.4414 - acc: 0.9611 - val_loss: 0.5335 - val_acc: 0.8450\n",
            "Epoch 9/25\n",
            "57/57 - 1s - loss: 0.3949 - acc: 0.9700 - val_loss: 0.5106 - val_acc: 0.8150\n",
            "Epoch 10/25\n",
            "57/57 - 1s - loss: 0.3529 - acc: 0.9706 - val_loss: 0.4865 - val_acc: 0.8450\n",
            "Epoch 11/25\n",
            "57/57 - 1s - loss: 0.3141 - acc: 0.9778 - val_loss: 0.4663 - val_acc: 0.8400\n",
            "Epoch 12/25\n",
            "57/57 - 1s - loss: 0.2801 - acc: 0.9817 - val_loss: 0.4475 - val_acc: 0.8650\n",
            "Epoch 13/25\n",
            "57/57 - 1s - loss: 0.2499 - acc: 0.9889 - val_loss: 0.4324 - val_acc: 0.8600\n",
            "Epoch 14/25\n",
            "57/57 - 1s - loss: 0.2219 - acc: 0.9911 - val_loss: 0.4176 - val_acc: 0.8700\n",
            "Epoch 15/25\n",
            "57/57 - 1s - loss: 0.1982 - acc: 0.9928 - val_loss: 0.4053 - val_acc: 0.8700\n",
            "Epoch 16/25\n",
            "57/57 - 1s - loss: 0.1772 - acc: 0.9928 - val_loss: 0.3973 - val_acc: 0.8750\n",
            "Epoch 17/25\n",
            "57/57 - 1s - loss: 0.1594 - acc: 0.9956 - val_loss: 0.3860 - val_acc: 0.8700\n",
            "Epoch 18/25\n",
            "57/57 - 1s - loss: 0.1428 - acc: 0.9956 - val_loss: 0.3786 - val_acc: 0.8650\n",
            "Epoch 19/25\n",
            "57/57 - 1s - loss: 0.1284 - acc: 0.9967 - val_loss: 0.3707 - val_acc: 0.8700\n",
            "Epoch 20/25\n",
            "57/57 - 1s - loss: 0.1156 - acc: 0.9978 - val_loss: 0.3650 - val_acc: 0.8700\n",
            "Epoch 21/25\n",
            "57/57 - 1s - loss: 0.1045 - acc: 0.9978 - val_loss: 0.3601 - val_acc: 0.8650\n",
            "Epoch 22/25\n",
            "57/57 - 1s - loss: 0.0961 - acc: 0.9978 - val_loss: 0.3560 - val_acc: 0.8700\n",
            "Epoch 23/25\n",
            "57/57 - 1s - loss: 0.0856 - acc: 0.9989 - val_loss: 0.3519 - val_acc: 0.8700\n",
            "Epoch 24/25\n",
            "57/57 - 1s - loss: 0.0779 - acc: 0.9994 - val_loss: 0.3480 - val_acc: 0.8650\n",
            "Epoch 25/25\n",
            "57/57 - 1s - loss: 0.0709 - acc: 1.0000 - val_loss: 0.3456 - val_acc: 0.8650\n"
          ],
          "name": "stdout"
        }
      ]
    },
    {
      "cell_type": "code",
      "metadata": {
        "colab": {
          "base_uri": "https://localhost:8080/",
          "height": 350
        },
        "id": "RTwfi0rWCwrX",
        "outputId": "885b566c-a179-478d-def0-1c9a390de793"
      },
      "source": [
        "fig,(ax1,ax2)=plt.subplots(1,2,figsize=(15,5))\n",
        "\n",
        "ax1.plot(history.history['acc'])\n",
        "ax1.plot(history.history['val_acc'])\n",
        "ax1.set_title('model accuracy')\n",
        "ax1.set_ylabel('accuracy')\n",
        "ax1.set_xlabel('epoch')\n",
        "ax1.legend(['train', 'val'], loc='upper left')\n",
        "\n",
        "ax2.plot(history.history['loss'])\n",
        "ax2.plot(history.history['val_loss'])\n",
        "ax2.set_title('model loss')\n",
        "ax2.set_ylabel('loss')\n",
        "ax2.set_xlabel('epoch')\n",
        "ax2.legend(['train', 'val'], loc='upper left')\n",
        "\n",
        "plt.show()"
      ],
      "execution_count": null,
      "outputs": [
        {
          "output_type": "display_data",
          "data": {
            "image/png": "[encoded data removed]",
            "text/plain": [
              "<Figure size 1080x360 with 2 Axes>"
            ]
          },
          "metadata": {
            "tags": [],
            "needs_background": "light"
          }
        }
      ]
    },
    {
      "cell_type": "markdown",
      "metadata": {
        "id": "zfUXfLY1umIf"
      },
      "source": [
        "# Prediction Experiments\n",
        "\n",
        "Try some reviews predictions"
      ]
    },
    {
      "cell_type": "code",
      "metadata": {
        "id": "99SqB9fTkkaE"
      },
      "source": [
        "def predict_sentiment(review):\n",
        "    line=extract_words(review,dictionnary)\n",
        "    encoded = tok.texts_to_matrix([line], mode='freq')\n",
        "    pred = model.predict(encoded)\n",
        "    percent_pos = pred[0, 0]\n",
        "    if round(percent_pos) == 0:\n",
        "        print('NEGATIVE: (%.3f%%)'%((1 - percent_pos)*100))\n",
        "    else:\n",
        "        print('POSITIVE: (%.3f%%)'%(percent_pos*100))\n"
      ],
      "execution_count": null,
      "outputs": []
    },
    {
      "cell_type": "markdown",
      "metadata": {
        "id": "8bb9_cTWuwsP"
      },
      "source": [
        "Easy classification"
      ]
    },
    {
      "cell_type": "code",
      "metadata": {
        "colab": {
          "base_uri": "https://localhost:8080/"
        },
        "id": "Pqs6MSvZUQ_l",
        "outputId": "f5c84872-d6b9-4e4f-f761-67fde7092d92"
      },
      "source": [
        "predict_sentiment('I have never such a poor film, I want to be refunded ! Worst movie in the history !')\n",
        "predict_sentiment('This movie is awesome, best movie ever !')\n",
        "predict_sentiment('The quantity of characters in the movie makes the movie incoherent')"
      ],
      "execution_count": null,
      "outputs": [
        {
          "output_type": "stream",
          "text": [
            "NEGATIVE: (98.403%)\n",
            "POSITIVE: (98.576%)\n",
            "NEGATIVE: (99.616%)\n"
          ],
          "name": "stdout"
        }
      ]
    },
    {
      "cell_type": "markdown",
      "metadata": {
        "id": "P7-tLynUu-nV"
      },
      "source": [
        "A simple word can change the prediction !"
      ]
    },
    {
      "cell_type": "code",
      "metadata": {
        "colab": {
          "base_uri": "https://localhost:8080/"
        },
        "id": "q22pTRqVVJUO",
        "outputId": "c0578814-9a15-47eb-85ad-c39c50be8faa"
      },
      "source": [
        "predict_sentiment('An amazing and incredible scenario with a poor realisation')\n",
        "predict_sentiment('An amazing scenario with a poor realisation')"
      ],
      "execution_count": null,
      "outputs": [
        {
          "output_type": "stream",
          "text": [
            "POSITIVE: (76.389%)\n",
            "NEGATIVE: (82.991%)\n"
          ],
          "name": "stdout"
        }
      ]
    },
    {
      "cell_type": "markdown",
      "metadata": {
        "id": "ivLf0xA-vE4T"
      },
      "source": [
        "Prediction with neutral content about [western yellow robin](https://en.wikipedia.org/wiki/Western_yellow_robin) and with [spiral galaxies](https://en.wikipedia.org/wiki/Spiral_galaxy)."
      ]
    },
    {
      "cell_type": "code",
      "metadata": {
        "colab": {
          "base_uri": "https://localhost:8080/"
        },
        "id": "j2666uDlVVBY",
        "outputId": "4c1a90bc-3cfb-41ed-f6f0-c4f3520e1970"
      },
      "source": [
        "predict_sentiment('The western yellow robin (Eopsaltria griseogularis) is a species of bird in the Australasian robin family Petroicidae.' \n",
        "'Described by John Gould in 1838, the western yellow robin and its Australian relatives are not closely related to either the European or American robins,'\n",
        "' but appear to be an early offshoot of the Passerida group of songbirds.')"
      ],
      "execution_count": null,
      "outputs": [
        {
          "output_type": "stream",
          "text": [
            "NEGATIVE: (98.945%)\n"
          ],
          "name": "stdout"
        }
      ]
    },
    {
      "cell_type": "code",
      "metadata": {
        "colab": {
          "base_uri": "https://localhost:8080/"
        },
        "id": "xDDso4HjVqDj",
        "outputId": "196c094b-06be-4254-93d4-6ab5f6055426"
      },
      "source": [
        "predict_sentiment('Spiral galaxies form a class of galaxy originally described by Edwin Hubble'\n",
        "'in his 1936 work The Realm of the Nebulae[1] and, as such, form part of the Hubble sequence. ')"
      ],
      "execution_count": null,
      "outputs": [
        {
          "output_type": "stream",
          "text": [
            "POSITIVE: (90.125%)\n"
          ],
          "name": "stdout"
        }
      ]
    },
    {
      "cell_type": "markdown",
      "metadata": {
        "id": "03sbwXCOvfWC"
      },
      "source": [
        "Prediction on an long anonymous review."
      ]
    },
    {
      "cell_type": "code",
      "metadata": {
        "colab": {
          "base_uri": "https://localhost:8080/"
        },
        "id": "AfUhq_UuWFBT",
        "outputId": "a7987a3d-eb09-459f-d4ca-0fd0a7e39242"
      },
      "source": [
        "predict_sentiment('In this movie “End Game” the avengers come together to defeat Thanos once and for all after losing.'\n",
        "'After half of the universe was eliminated the avengers tried to find a solution but for that they need the help of ant-man.'\n",
        "'He gaved them the clue to travel in time and so collect the different gems of infinity to restore the universe.'\n",
        "'In mi opinion the movie gives us a final tribute to the entire saga and at the same time such an incredible moments like when Capitan America'\n",
        "'raises the hammer of Thor and Hulk and Iron Man carry the gauntlet of infinity.'\n",
        "'They also created the greatest crossover of the entire history and make the audience feel connected to the movie at that point that make us feel there.'\n",
        "'The only thing i didn’t like of the movie is that they left behind some main characters and focus on others with not big importance '\n",
        "'but apart from that it was the best movie i saw in my life. I really enojoyed it and i hope they continue to make more movies like this.')"
      ],
      "execution_count": null,
      "outputs": [
        {
          "output_type": "stream",
          "text": [
            "POSITIVE: (78.298%)\n"
          ],
          "name": "stdout"
        }
      ]
    }
  ]
}